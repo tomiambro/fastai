{
 "cells": [
  {
   "cell_type": "code",
   "execution_count": 1,
   "metadata": {
    "scrolled": false
   },
   "outputs": [
    {
     "name": "stderr",
     "output_type": "stream",
     "text": [
      "\n",
      "Bad key \"text.kerning_factor\" on line 4 in\n",
      "/home/tom/anaconda3/envs/fastai/lib/python3.6/site-packages/matplotlib/mpl-data/stylelib/_classic_test_patch.mplstyle.\n",
      "You probably need to get an updated matplotlibrc file from\n",
      "http://github.com/matplotlib/matplotlib/blob/master/matplotlibrc.template\n",
      "or from the matplotlib source distribution\n"
     ]
    }
   ],
   "source": [
    "%load_ext autoreload\n",
    "%autoreload 2\n",
    "\n",
    "%matplotlib inline"
   ]
  },
  {
   "cell_type": "code",
   "execution_count": 2,
   "metadata": {
    "scrolled": false
   },
   "outputs": [],
   "source": [
    "import sys\n",
    "sys.path.append(\"/Users/tlee010/Desktop/github_repos/fastai/\") # go to parent dir\n",
    "\n",
    "from fastai.imports import *\n",
    "from fastai.structured import *\n",
    "\n",
    "from pandas_summary import DataFrameSummary\n",
    "from sklearn.ensemble import RandomForestRegressor\n",
    "from IPython.display import display\n",
    "\n",
    "from sklearn import metrics"
   ]
  },
  {
   "cell_type": "code",
   "execution_count": 14,
   "metadata": {
    "scrolled": false
   },
   "outputs": [],
   "source": [
    "set_plot_sizes(12,10,10)"
   ]
  },
  {
   "cell_type": "code",
   "execution_count": 4,
   "metadata": {
    "scrolled": false
   },
   "outputs": [
    {
     "data": {
      "text/html": [
       "<div>\n",
       "<style scoped>\n",
       "    .dataframe tbody tr th:only-of-type {\n",
       "        vertical-align: middle;\n",
       "    }\n",
       "\n",
       "    .dataframe tbody tr th {\n",
       "        vertical-align: top;\n",
       "    }\n",
       "\n",
       "    .dataframe thead th {\n",
       "        text-align: right;\n",
       "    }\n",
       "</style>\n",
       "<table border=\"1\" class=\"dataframe\">\n",
       "  <thead>\n",
       "    <tr style=\"text-align: right;\">\n",
       "      <th></th>\n",
       "      <th>Argentina</th>\n",
       "      <th>Spain</th>\n",
       "    </tr>\n",
       "  </thead>\n",
       "  <tbody>\n",
       "    <tr>\n",
       "      <th>0</th>\n",
       "      <td>{'date': '2020-1-22', 'confirmed': 0, 'deaths'...</td>\n",
       "      <td>{'date': '2020-1-22', 'confirmed': 0, 'deaths'...</td>\n",
       "    </tr>\n",
       "    <tr>\n",
       "      <th>1</th>\n",
       "      <td>{'date': '2020-1-23', 'confirmed': 0, 'deaths'...</td>\n",
       "      <td>{'date': '2020-1-23', 'confirmed': 0, 'deaths'...</td>\n",
       "    </tr>\n",
       "    <tr>\n",
       "      <th>2</th>\n",
       "      <td>{'date': '2020-1-24', 'confirmed': 0, 'deaths'...</td>\n",
       "      <td>{'date': '2020-1-24', 'confirmed': 0, 'deaths'...</td>\n",
       "    </tr>\n",
       "    <tr>\n",
       "      <th>3</th>\n",
       "      <td>{'date': '2020-1-25', 'confirmed': 0, 'deaths'...</td>\n",
       "      <td>{'date': '2020-1-25', 'confirmed': 0, 'deaths'...</td>\n",
       "    </tr>\n",
       "    <tr>\n",
       "      <th>4</th>\n",
       "      <td>{'date': '2020-1-26', 'confirmed': 0, 'deaths'...</td>\n",
       "      <td>{'date': '2020-1-26', 'confirmed': 0, 'deaths'...</td>\n",
       "    </tr>\n",
       "    <tr>\n",
       "      <th>...</th>\n",
       "      <td>...</td>\n",
       "      <td>...</td>\n",
       "    </tr>\n",
       "    <tr>\n",
       "      <th>73</th>\n",
       "      <td>{'date': '2020-4-4', 'confirmed': 1451, 'death...</td>\n",
       "      <td>{'date': '2020-4-4', 'confirmed': 126168, 'dea...</td>\n",
       "    </tr>\n",
       "    <tr>\n",
       "      <th>74</th>\n",
       "      <td>{'date': '2020-4-5', 'confirmed': 1451, 'death...</td>\n",
       "      <td>{'date': '2020-4-5', 'confirmed': 131646, 'dea...</td>\n",
       "    </tr>\n",
       "    <tr>\n",
       "      <th>75</th>\n",
       "      <td>{'date': '2020-4-6', 'confirmed': 1554, 'death...</td>\n",
       "      <td>{'date': '2020-4-6', 'confirmed': 136675, 'dea...</td>\n",
       "    </tr>\n",
       "    <tr>\n",
       "      <th>76</th>\n",
       "      <td>{'date': '2020-4-7', 'confirmed': 1628, 'death...</td>\n",
       "      <td>{'date': '2020-4-7', 'confirmed': 141942, 'dea...</td>\n",
       "    </tr>\n",
       "    <tr>\n",
       "      <th>77</th>\n",
       "      <td>{'date': '2020-4-8', 'confirmed': 1715, 'death...</td>\n",
       "      <td>{'date': '2020-4-8', 'confirmed': 148220, 'dea...</td>\n",
       "    </tr>\n",
       "  </tbody>\n",
       "</table>\n",
       "<p>78 rows × 2 columns</p>\n",
       "</div>"
      ],
      "text/plain": [
       "                                            Argentina  \\\n",
       "0   {'date': '2020-1-22', 'confirmed': 0, 'deaths'...   \n",
       "1   {'date': '2020-1-23', 'confirmed': 0, 'deaths'...   \n",
       "2   {'date': '2020-1-24', 'confirmed': 0, 'deaths'...   \n",
       "3   {'date': '2020-1-25', 'confirmed': 0, 'deaths'...   \n",
       "4   {'date': '2020-1-26', 'confirmed': 0, 'deaths'...   \n",
       "..                                                ...   \n",
       "73  {'date': '2020-4-4', 'confirmed': 1451, 'death...   \n",
       "74  {'date': '2020-4-5', 'confirmed': 1451, 'death...   \n",
       "75  {'date': '2020-4-6', 'confirmed': 1554, 'death...   \n",
       "76  {'date': '2020-4-7', 'confirmed': 1628, 'death...   \n",
       "77  {'date': '2020-4-8', 'confirmed': 1715, 'death...   \n",
       "\n",
       "                                                Spain  \n",
       "0   {'date': '2020-1-22', 'confirmed': 0, 'deaths'...  \n",
       "1   {'date': '2020-1-23', 'confirmed': 0, 'deaths'...  \n",
       "2   {'date': '2020-1-24', 'confirmed': 0, 'deaths'...  \n",
       "3   {'date': '2020-1-25', 'confirmed': 0, 'deaths'...  \n",
       "4   {'date': '2020-1-26', 'confirmed': 0, 'deaths'...  \n",
       "..                                                ...  \n",
       "73  {'date': '2020-4-4', 'confirmed': 126168, 'dea...  \n",
       "74  {'date': '2020-4-5', 'confirmed': 131646, 'dea...  \n",
       "75  {'date': '2020-4-6', 'confirmed': 136675, 'dea...  \n",
       "76  {'date': '2020-4-7', 'confirmed': 141942, 'dea...  \n",
       "77  {'date': '2020-4-8', 'confirmed': 148220, 'dea...  \n",
       "\n",
       "[78 rows x 2 columns]"
      ]
     },
     "execution_count": 4,
     "metadata": {},
     "output_type": "execute_result"
    }
   ],
   "source": [
    "df_raw = pd.read_json('https://pomber.github.io/covid19/timeseries.json', orient='records')\n",
    "df = pd.DataFrame()\n",
    "df_raw.loc[:,(['Argentina', 'Spain'])]"
   ]
  },
  {
   "cell_type": "code",
   "execution_count": 5,
   "metadata": {
    "scrolled": false
   },
   "outputs": [
    {
     "data": {
      "text/html": [
       "<div>\n",
       "<style scoped>\n",
       "    .dataframe tbody tr th:only-of-type {\n",
       "        vertical-align: middle;\n",
       "    }\n",
       "\n",
       "    .dataframe tbody tr th {\n",
       "        vertical-align: top;\n",
       "    }\n",
       "\n",
       "    .dataframe thead th {\n",
       "        text-align: right;\n",
       "    }\n",
       "</style>\n",
       "<table border=\"1\" class=\"dataframe\">\n",
       "  <thead>\n",
       "    <tr style=\"text-align: right;\">\n",
       "      <th></th>\n",
       "      <th>date</th>\n",
       "      <th>deaths</th>\n",
       "      <th>confirmed</th>\n",
       "      <th>recovered</th>\n",
       "      <th>country</th>\n",
       "    </tr>\n",
       "  </thead>\n",
       "  <tbody>\n",
       "    <tr>\n",
       "      <th>0</th>\n",
       "      <td>2020-01-22</td>\n",
       "      <td>0</td>\n",
       "      <td>0</td>\n",
       "      <td>0</td>\n",
       "      <td>España</td>\n",
       "    </tr>\n",
       "    <tr>\n",
       "      <th>1</th>\n",
       "      <td>2020-01-23</td>\n",
       "      <td>0</td>\n",
       "      <td>0</td>\n",
       "      <td>0</td>\n",
       "      <td>España</td>\n",
       "    </tr>\n",
       "    <tr>\n",
       "      <th>2</th>\n",
       "      <td>2020-01-24</td>\n",
       "      <td>0</td>\n",
       "      <td>0</td>\n",
       "      <td>0</td>\n",
       "      <td>España</td>\n",
       "    </tr>\n",
       "    <tr>\n",
       "      <th>3</th>\n",
       "      <td>2020-01-25</td>\n",
       "      <td>0</td>\n",
       "      <td>0</td>\n",
       "      <td>0</td>\n",
       "      <td>España</td>\n",
       "    </tr>\n",
       "    <tr>\n",
       "      <th>4</th>\n",
       "      <td>2020-01-26</td>\n",
       "      <td>0</td>\n",
       "      <td>0</td>\n",
       "      <td>0</td>\n",
       "      <td>España</td>\n",
       "    </tr>\n",
       "    <tr>\n",
       "      <th>...</th>\n",
       "      <td>...</td>\n",
       "      <td>...</td>\n",
       "      <td>...</td>\n",
       "      <td>...</td>\n",
       "      <td>...</td>\n",
       "    </tr>\n",
       "    <tr>\n",
       "      <th>73</th>\n",
       "      <td>2020-04-04</td>\n",
       "      <td>11947</td>\n",
       "      <td>126168</td>\n",
       "      <td>34219</td>\n",
       "      <td>España</td>\n",
       "    </tr>\n",
       "    <tr>\n",
       "      <th>74</th>\n",
       "      <td>2020-04-05</td>\n",
       "      <td>12641</td>\n",
       "      <td>131646</td>\n",
       "      <td>38080</td>\n",
       "      <td>España</td>\n",
       "    </tr>\n",
       "    <tr>\n",
       "      <th>75</th>\n",
       "      <td>2020-04-06</td>\n",
       "      <td>13341</td>\n",
       "      <td>136675</td>\n",
       "      <td>40437</td>\n",
       "      <td>España</td>\n",
       "    </tr>\n",
       "    <tr>\n",
       "      <th>76</th>\n",
       "      <td>2020-04-07</td>\n",
       "      <td>14045</td>\n",
       "      <td>141942</td>\n",
       "      <td>43208</td>\n",
       "      <td>España</td>\n",
       "    </tr>\n",
       "    <tr>\n",
       "      <th>77</th>\n",
       "      <td>2020-04-08</td>\n",
       "      <td>14792</td>\n",
       "      <td>148220</td>\n",
       "      <td>48021</td>\n",
       "      <td>España</td>\n",
       "    </tr>\n",
       "  </tbody>\n",
       "</table>\n",
       "<p>78 rows × 5 columns</p>\n",
       "</div>"
      ],
      "text/plain": [
       "         date  deaths  confirmed  recovered country\n",
       "0  2020-01-22       0          0          0  España\n",
       "1  2020-01-23       0          0          0  España\n",
       "2  2020-01-24       0          0          0  España\n",
       "3  2020-01-25       0          0          0  España\n",
       "4  2020-01-26       0          0          0  España\n",
       "..        ...     ...        ...        ...     ...\n",
       "73 2020-04-04   11947     126168      34219  España\n",
       "74 2020-04-05   12641     131646      38080  España\n",
       "75 2020-04-06   13341     136675      40437  España\n",
       "76 2020-04-07   14045     141942      43208  España\n",
       "77 2020-04-08   14792     148220      48021  España\n",
       "\n",
       "[78 rows x 5 columns]"
      ]
     },
     "execution_count": 5,
     "metadata": {},
     "output_type": "execute_result"
    }
   ],
   "source": [
    "for row in df_raw.loc[:, 'Argentina']:\n",
    "    row['country'] = 'Argentina'\n",
    "\n",
    "for row in df_raw.loc[:, 'Spain']:\n",
    "    row['country'] = 'España'\n",
    "\n",
    "#df = pd.DataFrame([row for row in df_raw.loc[:,'Argentina']   ], columns=columns)\n",
    "\n",
    "Dates = pd.Series([row['date'] for row in df_raw.loc[:, 'Spain']], name='date', dtype='datetime64[ns]')\n",
    "Deaths = pd.Series([row['deaths'] for row in df_raw.loc[:, 'Spain']], name='date', dtype='int32')\n",
    "Confirmed = pd.Series([row['confirmed'] for row in df_raw.loc[:, 'Spain']], name='date', dtype='int32')\n",
    "Recovered = pd.Series([row['recovered'] for row in df_raw.loc[:, 'Spain']], name='date', dtype='int32')\n",
    "\n",
    "frame = {'date': Dates, 'deaths': Deaths, 'confirmed': Confirmed, 'recovered': Recovered}\n",
    "df_spain = pd.DataFrame(frame)\n",
    "df_spain['country'] = 'España'\n",
    "df_spain"
   ]
  },
  {
   "cell_type": "code",
   "execution_count": 6,
   "metadata": {
    "scrolled": false
   },
   "outputs": [
    {
     "data": {
      "text/html": [
       "<div>\n",
       "<style scoped>\n",
       "    .dataframe tbody tr th:only-of-type {\n",
       "        vertical-align: middle;\n",
       "    }\n",
       "\n",
       "    .dataframe tbody tr th {\n",
       "        vertical-align: top;\n",
       "    }\n",
       "\n",
       "    .dataframe thead th {\n",
       "        text-align: right;\n",
       "    }\n",
       "</style>\n",
       "<table border=\"1\" class=\"dataframe\">\n",
       "  <thead>\n",
       "    <tr style=\"text-align: right;\">\n",
       "      <th></th>\n",
       "      <th>date</th>\n",
       "      <th>deaths</th>\n",
       "      <th>confirmed</th>\n",
       "      <th>recovered</th>\n",
       "      <th>country</th>\n",
       "    </tr>\n",
       "  </thead>\n",
       "  <tbody>\n",
       "    <tr>\n",
       "      <th>0</th>\n",
       "      <td>2020-01-22</td>\n",
       "      <td>0</td>\n",
       "      <td>0</td>\n",
       "      <td>0</td>\n",
       "      <td>Argentina</td>\n",
       "    </tr>\n",
       "    <tr>\n",
       "      <th>1</th>\n",
       "      <td>2020-01-23</td>\n",
       "      <td>0</td>\n",
       "      <td>0</td>\n",
       "      <td>0</td>\n",
       "      <td>Argentina</td>\n",
       "    </tr>\n",
       "    <tr>\n",
       "      <th>2</th>\n",
       "      <td>2020-01-24</td>\n",
       "      <td>0</td>\n",
       "      <td>0</td>\n",
       "      <td>0</td>\n",
       "      <td>Argentina</td>\n",
       "    </tr>\n",
       "    <tr>\n",
       "      <th>3</th>\n",
       "      <td>2020-01-25</td>\n",
       "      <td>0</td>\n",
       "      <td>0</td>\n",
       "      <td>0</td>\n",
       "      <td>Argentina</td>\n",
       "    </tr>\n",
       "    <tr>\n",
       "      <th>4</th>\n",
       "      <td>2020-01-26</td>\n",
       "      <td>0</td>\n",
       "      <td>0</td>\n",
       "      <td>0</td>\n",
       "      <td>Argentina</td>\n",
       "    </tr>\n",
       "    <tr>\n",
       "      <th>...</th>\n",
       "      <td>...</td>\n",
       "      <td>...</td>\n",
       "      <td>...</td>\n",
       "      <td>...</td>\n",
       "      <td>...</td>\n",
       "    </tr>\n",
       "    <tr>\n",
       "      <th>73</th>\n",
       "      <td>2020-04-04</td>\n",
       "      <td>43</td>\n",
       "      <td>1451</td>\n",
       "      <td>279</td>\n",
       "      <td>Argentina</td>\n",
       "    </tr>\n",
       "    <tr>\n",
       "      <th>74</th>\n",
       "      <td>2020-04-05</td>\n",
       "      <td>44</td>\n",
       "      <td>1451</td>\n",
       "      <td>280</td>\n",
       "      <td>Argentina</td>\n",
       "    </tr>\n",
       "    <tr>\n",
       "      <th>75</th>\n",
       "      <td>2020-04-06</td>\n",
       "      <td>48</td>\n",
       "      <td>1554</td>\n",
       "      <td>325</td>\n",
       "      <td>Argentina</td>\n",
       "    </tr>\n",
       "    <tr>\n",
       "      <th>76</th>\n",
       "      <td>2020-04-07</td>\n",
       "      <td>56</td>\n",
       "      <td>1628</td>\n",
       "      <td>338</td>\n",
       "      <td>Argentina</td>\n",
       "    </tr>\n",
       "    <tr>\n",
       "      <th>77</th>\n",
       "      <td>2020-04-08</td>\n",
       "      <td>63</td>\n",
       "      <td>1715</td>\n",
       "      <td>358</td>\n",
       "      <td>Argentina</td>\n",
       "    </tr>\n",
       "  </tbody>\n",
       "</table>\n",
       "<p>78 rows × 5 columns</p>\n",
       "</div>"
      ],
      "text/plain": [
       "         date  deaths  confirmed  recovered    country\n",
       "0  2020-01-22       0          0          0  Argentina\n",
       "1  2020-01-23       0          0          0  Argentina\n",
       "2  2020-01-24       0          0          0  Argentina\n",
       "3  2020-01-25       0          0          0  Argentina\n",
       "4  2020-01-26       0          0          0  Argentina\n",
       "..        ...     ...        ...        ...        ...\n",
       "73 2020-04-04      43       1451        279  Argentina\n",
       "74 2020-04-05      44       1451        280  Argentina\n",
       "75 2020-04-06      48       1554        325  Argentina\n",
       "76 2020-04-07      56       1628        338  Argentina\n",
       "77 2020-04-08      63       1715        358  Argentina\n",
       "\n",
       "[78 rows x 5 columns]"
      ]
     },
     "execution_count": 6,
     "metadata": {},
     "output_type": "execute_result"
    }
   ],
   "source": [
    "Dates = pd.Series([row['date'] for row in df_raw.loc[:, 'Argentina']], name='date', dtype='datetime64[ns]')\n",
    "Deaths = pd.Series([row['deaths'] for row in df_raw.loc[:, 'Argentina']], name='date', dtype='int32')\n",
    "Confirmed = pd.Series([row['confirmed'] for row in df_raw.loc[:, 'Argentina']], name='date', dtype='int32')\n",
    "Recovered = pd.Series([row['recovered'] for row in df_raw.loc[:, 'Argentina']], name='date', dtype='int32')\n",
    "\n",
    "frame = {'date': Dates, 'deaths': Deaths, 'confirmed': Confirmed, 'recovered': Recovered}\n",
    "df_arg = pd.DataFrame(frame)\n",
    "df_arg['country'] = 'Argentina'\n",
    "df_arg"
   ]
  },
  {
   "cell_type": "code",
   "execution_count": 7,
   "metadata": {
    "scrolled": false
   },
   "outputs": [],
   "source": [
    "df = df_arg.append(df_spain)\n",
    "\n",
    "df.reset_index(inplace=True)"
   ]
  },
  {
   "cell_type": "code",
   "execution_count": 8,
   "metadata": {
    "scrolled": false
   },
   "outputs": [],
   "source": [
    "os.makedirs('tmp', exist_ok=True)\n",
    "df.to_feather('tmp/data_covid19-raw')"
   ]
  },
  {
   "cell_type": "code",
   "execution_count": 9,
   "metadata": {
    "scrolled": false
   },
   "outputs": [
    {
     "data": {
      "text/html": [
       "<div>\n",
       "<style scoped>\n",
       "    .dataframe tbody tr th:only-of-type {\n",
       "        vertical-align: middle;\n",
       "    }\n",
       "\n",
       "    .dataframe tbody tr th {\n",
       "        vertical-align: top;\n",
       "    }\n",
       "\n",
       "    .dataframe thead th {\n",
       "        text-align: right;\n",
       "    }\n",
       "</style>\n",
       "<table border=\"1\" class=\"dataframe\">\n",
       "  <thead>\n",
       "    <tr style=\"text-align: right;\">\n",
       "      <th></th>\n",
       "      <th>index</th>\n",
       "      <th>date</th>\n",
       "      <th>deaths</th>\n",
       "      <th>confirmed</th>\n",
       "      <th>recovered</th>\n",
       "      <th>country</th>\n",
       "    </tr>\n",
       "  </thead>\n",
       "  <tbody>\n",
       "    <tr>\n",
       "      <th>0</th>\n",
       "      <td>0</td>\n",
       "      <td>2020-01-22</td>\n",
       "      <td>0</td>\n",
       "      <td>0</td>\n",
       "      <td>0</td>\n",
       "      <td>Argentina</td>\n",
       "    </tr>\n",
       "    <tr>\n",
       "      <th>1</th>\n",
       "      <td>1</td>\n",
       "      <td>2020-01-23</td>\n",
       "      <td>0</td>\n",
       "      <td>0</td>\n",
       "      <td>0</td>\n",
       "      <td>Argentina</td>\n",
       "    </tr>\n",
       "    <tr>\n",
       "      <th>2</th>\n",
       "      <td>2</td>\n",
       "      <td>2020-01-24</td>\n",
       "      <td>0</td>\n",
       "      <td>0</td>\n",
       "      <td>0</td>\n",
       "      <td>Argentina</td>\n",
       "    </tr>\n",
       "    <tr>\n",
       "      <th>3</th>\n",
       "      <td>3</td>\n",
       "      <td>2020-01-25</td>\n",
       "      <td>0</td>\n",
       "      <td>0</td>\n",
       "      <td>0</td>\n",
       "      <td>Argentina</td>\n",
       "    </tr>\n",
       "    <tr>\n",
       "      <th>4</th>\n",
       "      <td>4</td>\n",
       "      <td>2020-01-26</td>\n",
       "      <td>0</td>\n",
       "      <td>0</td>\n",
       "      <td>0</td>\n",
       "      <td>Argentina</td>\n",
       "    </tr>\n",
       "    <tr>\n",
       "      <th>...</th>\n",
       "      <td>...</td>\n",
       "      <td>...</td>\n",
       "      <td>...</td>\n",
       "      <td>...</td>\n",
       "      <td>...</td>\n",
       "      <td>...</td>\n",
       "    </tr>\n",
       "    <tr>\n",
       "      <th>151</th>\n",
       "      <td>73</td>\n",
       "      <td>2020-04-04</td>\n",
       "      <td>11947</td>\n",
       "      <td>126168</td>\n",
       "      <td>34219</td>\n",
       "      <td>España</td>\n",
       "    </tr>\n",
       "    <tr>\n",
       "      <th>152</th>\n",
       "      <td>74</td>\n",
       "      <td>2020-04-05</td>\n",
       "      <td>12641</td>\n",
       "      <td>131646</td>\n",
       "      <td>38080</td>\n",
       "      <td>España</td>\n",
       "    </tr>\n",
       "    <tr>\n",
       "      <th>153</th>\n",
       "      <td>75</td>\n",
       "      <td>2020-04-06</td>\n",
       "      <td>13341</td>\n",
       "      <td>136675</td>\n",
       "      <td>40437</td>\n",
       "      <td>España</td>\n",
       "    </tr>\n",
       "    <tr>\n",
       "      <th>154</th>\n",
       "      <td>76</td>\n",
       "      <td>2020-04-07</td>\n",
       "      <td>14045</td>\n",
       "      <td>141942</td>\n",
       "      <td>43208</td>\n",
       "      <td>España</td>\n",
       "    </tr>\n",
       "    <tr>\n",
       "      <th>155</th>\n",
       "      <td>77</td>\n",
       "      <td>2020-04-08</td>\n",
       "      <td>14792</td>\n",
       "      <td>148220</td>\n",
       "      <td>48021</td>\n",
       "      <td>España</td>\n",
       "    </tr>\n",
       "  </tbody>\n",
       "</table>\n",
       "<p>156 rows × 6 columns</p>\n",
       "</div>"
      ],
      "text/plain": [
       "     index       date  deaths  confirmed  recovered    country\n",
       "0        0 2020-01-22       0          0          0  Argentina\n",
       "1        1 2020-01-23       0          0          0  Argentina\n",
       "2        2 2020-01-24       0          0          0  Argentina\n",
       "3        3 2020-01-25       0          0          0  Argentina\n",
       "4        4 2020-01-26       0          0          0  Argentina\n",
       "..     ...        ...     ...        ...        ...        ...\n",
       "151     73 2020-04-04   11947     126168      34219     España\n",
       "152     74 2020-04-05   12641     131646      38080     España\n",
       "153     75 2020-04-06   13341     136675      40437     España\n",
       "154     76 2020-04-07   14045     141942      43208     España\n",
       "155     77 2020-04-08   14792     148220      48021     España\n",
       "\n",
       "[156 rows x 6 columns]"
      ]
     },
     "execution_count": 9,
     "metadata": {},
     "output_type": "execute_result"
    }
   ],
   "source": [
    "df = pd.read_feather('tmp/data_covid19-raw')\n",
    "df"
   ]
  },
  {
   "cell_type": "code",
   "execution_count": 10,
   "metadata": {
    "scrolled": false
   },
   "outputs": [],
   "source": [
    "df_arg['afectados'] = df_arg['confirmed'] + df_arg['deaths'] + df_arg['recovered']\n",
    "\n",
    "df_arg['infect'] = df_arg['confirmed'] - df_arg['confirmed'].shift()"
   ]
  },
  {
   "cell_type": "code",
   "execution_count": 16,
   "metadata": {
    "scrolled": false
   },
   "outputs": [
    {
     "name": "stdout",
     "output_type": "stream",
     "text": [
      "Analyzin through 31 days\n"
     ]
    },
    {
     "data": {
      "text/plain": [
       "<matplotlib.axes._subplots.AxesSubplot at 0x7f6f7e0a4860>"
      ]
     },
     "execution_count": 16,
     "metadata": {},
     "output_type": "execute_result"
    },
    {
     "data": {
      "image/png": "[encoded data removed]",
      "text/plain": [
       "<Figure size 1296x504 with 1 Axes>"
      ]
     },
     "metadata": {
      "needs_background": "light"
     },
     "output_type": "display_data"
    }
   ],
   "source": [
    "size = df_arg[df_arg['confirmed'] > 10].index.max() - df_arg[df_arg['confirmed'] > 10].index.min()\n",
    "print(f'Analyzin through {size} days')\n",
    "\n",
    "y_arg = df_arg[df_arg['confirmed'] > 10][0:size]\n",
    "y_arg.reset_index(inplace=True)\n",
    "\n",
    "y_arg.plot(kind='bar', stacked=True , y=['confirmed', 'deaths'], figsize=(18, 7))"
   ]
  },
  {
   "cell_type": "code",
   "execution_count": 15,
   "metadata": {
    "scrolled": false
   },
   "outputs": [
    {
     "data": {
      "text/plain": [
       "<matplotlib.axes._subplots.AxesSubplot at 0x7f6f7e1d2d68>"
      ]
     },
     "execution_count": 15,
     "metadata": {},
     "output_type": "execute_result"
    },
    {
     "data": {
      "image/png": "[encoded data removed]",
      "text/plain": [
       "<Figure size 1296x504 with 1 Axes>"
      ]
     },
     "metadata": {
      "needs_background": "light"
     },
     "output_type": "display_data"
    }
   ],
   "source": [
    "df_spain['afectados'] = df_spain['confirmed'] + df_spain['deaths'] + df_spain['recovered']\n",
    "df_spain['infect'] = df_spain['confirmed'] - df_spain['confirmed'].shift()\n",
    "y_spain = df_spain[df_spain['confirmed'] > 10][0:size]\n",
    "y_spain.reset_index(inplace=True)\n",
    "y_spain.plot(kind='bar',stacked=True , y=['confirmed', 'deaths'], figsize=(18, 7))"
   ]
  },
  {
   "cell_type": "code",
   "execution_count": 91,
   "metadata": {
    "scrolled": false
   },
   "outputs": [
    {
     "data": {
      "image/png": "[encoded data removed]",
      "text/plain": [
       "<Figure size 1296x504 with 1 Axes>"
      ]
     },
     "metadata": {
      "needs_background": "light"
     },
     "output_type": "display_data"
    }
   ],
   "source": [
    "fig = plt.figure(figsize=(18, 7))\n",
    "plt.plot(y_arg['confirmed'], label='Argentina', linewidth=4)\n",
    "plt.plot(y_spain['confirmed'], label='España', linewidth=4)\n",
    "fig.legend(loc=\"upper left\")\n",
    "plt.grid()\n",
    "plt.show()"
   ]
  },
  {
   "cell_type": "code",
   "execution_count": 92,
   "metadata": {
    "scrolled": false
   },
   "outputs": [
    {
     "data": {
      "image/png": "[encoded data removed]",
      "text/plain": [
       "<Figure size 1296x504 with 1 Axes>"
      ]
     },
     "metadata": {
      "needs_background": "light"
     },
     "output_type": "display_data"
    }
   ],
   "source": [
    "fig = plt.figure(figsize=(18, 7))\n",
    "p1 = plt.plot(y_arg['confirmed'], label='Argentina', linewidth=4)\n",
    "p2 = plt.plot(y_spain['confirmed'], label='España', linewidth=4)\n",
    "plt.yscale(\"log\")\n",
    "fig.legend(loc=\"upper left\")\n",
    "plt.grid()\n",
    "plt.show()"
   ]
  }
 ],
 "metadata": {
  "kernelspec": {
   "display_name": "Python 3",
   "language": "python",
   "name": "python3"
  },
  "language_info": {
   "codemirror_mode": {
    "name": "ipython",
    "version": 3
   },
   "file_extension": ".py",
   "mimetype": "text/x-python",
   "name": "python",
   "nbconvert_exporter": "python",
   "pygments_lexer": "ipython3",
   "version": "3.6.10"
  }
 },
 "nbformat": 4,
 "nbformat_minor": 4
}
